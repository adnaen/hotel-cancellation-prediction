{
 "cells": [
  {
   "cell_type": "markdown",
   "id": "765b67e9-b738-4467-b5a3-6f8e29339c00",
   "metadata": {},
   "source": [
    "## **Data Preprocessing**"
   ]
  },
  {
   "cell_type": "code",
   "execution_count": null,
   "id": "ab15ad7c-e37b-411a-a93c-accbd96f1aa5",
   "metadata": {},
   "outputs": [],
   "source": [
    "import pandas as pd\n",
    "import numpy as np\n",
    "from matplotlib import pyplot as plt\n",
    "import seaborn as sns"
   ]
  },
  {
   "cell_type": "code",
   "execution_count": null,
   "id": "1eb30e4a-042e-49ef-ab44-63da77000d24",
   "metadata": {},
   "outputs": [],
   "source": [
    "df_path = \"../artifacts/data_ingestion/hotel_cancellation.csv\"\n",
    "df = pd.read_csv(df_path)"
   ]
  },
  {
   "cell_type": "markdown",
   "id": "da457799-197b-47f1-9836-4b703b3886f7",
   "metadata": {},
   "source": [
    "Irrelevent features\n",
    "-------------------"
   ]
  },
  {
   "cell_type": "code",
   "execution_count": null,
   "id": "58e8c9e3-03f5-4c84-955a-68cc02fa2fff",
   "metadata": {},
   "outputs": [],
   "source": [
    "df.columns"
   ]
  },
  {
   "cell_type": "code",
   "execution_count": null,
   "id": "ebe71845-6ee3-4c64-a7ae-d59ed211e4a6",
   "metadata": {},
   "outputs": [],
   "source": [
    "unwanted_columns = [\"email\", \"phone-number\", \"credit_card\", \"name\", \"company\"]\n",
    "df = df.drop(columns=unwanted_columns)"
   ]
  },
  {
   "cell_type": "markdown",
   "id": "d67c3d1a-398d-4baf-a685-256bd1f89a0e",
   "metadata": {},
   "source": [
    "### Datatypes Convertion"
   ]
  },
  {
   "cell_type": "code",
   "execution_count": null,
   "id": "c84c515f-7cfd-4e9d-83a7-eb0b0d0aa476",
   "metadata": {},
   "outputs": [],
   "source": [
    "df.dtypes"
   ]
  },
  {
   "cell_type": "code",
   "execution_count": null,
   "id": "f0474813-7697-4c12-b114-d6f4dba3d6a6",
   "metadata": {},
   "outputs": [],
   "source": [
    "# features need to change\n",
    "\n",
    "# \"children\" -> int\n",
    "# \"agent\" -> int\n",
    "# \"reservation_status_date\" -> datetime"
   ]
  },
  {
   "cell_type": "markdown",
   "id": "e9df8374-8d1a-4da4-af3f-5db104edfeca",
   "metadata": {},
   "source": [
    "### Missing values"
   ]
  },
  {
   "cell_type": "code",
   "execution_count": null,
   "id": "b317df23-7903-4331-a735-887e8aa6f84b",
   "metadata": {},
   "outputs": [],
   "source": [
    "isnull_mean = df.isna().mean() * 100\n",
    "isnull_mean"
   ]
  },
  {
   "cell_type": "code",
   "execution_count": null,
   "id": "a0bfa366-ecea-4c98-9ffb-3b9ef94ed3b7",
   "metadata": {},
   "outputs": [],
   "source": [
    "plt.figure(figsize=(8, 10))\n",
    "sns.barplot(isnull_mean, orient=\"h\")\n",
    "plt.xlabel(\"percentage\")\n",
    "plt.ylabel(\"columns\")\n",
    "plt.title(\"Missing values by features\")\n",
    "plt.show()"
   ]
  },
  {
   "cell_type": "markdown",
   "id": "44838276-cd1f-4604-afe1-89fde8f679c4",
   "metadata": {},
   "source": [
    "#### How to Impute Missing Values"
   ]
  },
  {
   "cell_type": "code",
   "execution_count": null,
   "id": "5eeabec9-c4fc-4240-b058-ce011e3f1078",
   "metadata": {},
   "outputs": [],
   "source": [
    "missing_values_cols = isnull_mean[isnull_mean > 0]\n",
    "missing_values_cols"
   ]
  },
  {
   "cell_type": "code",
   "execution_count": null,
   "id": "32f29071-6cb8-4348-95ee-ab7e69b1b67d",
   "metadata": {},
   "outputs": [],
   "source": [
    "missing_values_cols[missing_values_cols > 50]  # column to drop"
   ]
  },
  {
   "cell_type": "code",
   "execution_count": null,
   "id": "5830e2a7-2a8f-4df5-9921-cfaeaf8c3601",
   "metadata": {},
   "outputs": [],
   "source": [
    "\"\"\"impute missing values variable with\n",
    "\n",
    "SimpleImputer(mean)\n",
    "-------------------\n",
    "-> children\n",
    "-> agent\n",
    "\n",
    "SimpleImputer(mode)\n",
    "-------------------\n",
    "-> country\n",
    "\n",
    "\"\"\""
   ]
  },
  {
   "cell_type": "markdown",
   "id": "68d4026a-ab1a-49c8-b50e-c11ae418ec17",
   "metadata": {},
   "source": [
    "# Outlier Checking"
   ]
  },
  {
   "cell_type": "code",
   "execution_count": null,
   "id": "07e487ea-96ac-450c-a98c-6e3f58c3977a",
   "metadata": {},
   "outputs": [],
   "source": [
    "numerical_cols = df.select_dtypes(np.number)\n",
    "categorical_cols = df.select_dtypes(\"O\")"
   ]
  },
  {
   "cell_type": "markdown",
   "id": "aa7ade65-d0fb-4614-b90b-a900939494aa",
   "metadata": {},
   "source": [
    "### Continues variables"
   ]
  },
  {
   "cell_type": "code",
   "execution_count": null,
   "id": "97d90a94-5c97-4517-9645-d69b8b6e74da",
   "metadata": {},
   "outputs": [],
   "source": [
    "# numerical columns that have cardinality > 50\n",
    "# categorize as continues variable\n",
    "\n",
    "continues_variables = [\n",
    "    column for column in numerical_cols.columns if df[column].nunique() > 50\n",
    "]\n",
    "\n",
    "# these variables are most likly discrete with there nature\n",
    "continues_variables.remove(\"previous_bookings_not_canceled\")\n",
    "continues_variables.remove(\"days_in_waiting_list\")\n",
    "continues_variables"
   ]
  },
  {
   "cell_type": "code",
   "execution_count": null,
   "id": "7b6c4c34-3094-41b2-8bcf-330a304d34e4",
   "metadata": {},
   "outputs": [],
   "source": [
    "df[continues_variables].sample(10)"
   ]
  },
  {
   "cell_type": "markdown",
   "id": "e37699e0-cba5-4854-a029-ab8b08f151ea",
   "metadata": {},
   "source": [
    "#### Distrubution of continues variables"
   ]
  },
  {
   "cell_type": "code",
   "execution_count": null,
   "id": "e183fc19-40f0-493d-ae6d-bf9937222092",
   "metadata": {},
   "outputs": [],
   "source": [
    "plt.figure(figsize=(8, 10))\n",
    "\n",
    "for index, column in enumerate(continues_variables, start=1):\n",
    "    plt.subplot(2, 2, index)\n",
    "    sns.kdeplot(df[column])"
   ]
  },
  {
   "cell_type": "code",
   "execution_count": null,
   "id": "85c4de6c-6daa-48aa-8602-9f9dfbe9a2f1",
   "metadata": {},
   "outputs": [],
   "source": [
    "df[continues_variables].skew()"
   ]
  },
  {
   "cell_type": "code",
   "execution_count": null,
   "id": "015f9c56-10b4-4064-9eac-53b387889f8f",
   "metadata": {},
   "outputs": [],
   "source": [
    "\"\"\"Treat Outlier With\n",
    "\n",
    "column_name -> outlier treat method\n",
    "------------------------------------\n",
    "lead_time ->  log\n",
    "arrival_date_week_number -> IQR\n",
    "agent -> log\n",
    "adr -> log\n",
    "\"\"\""
   ]
  },
  {
   "cell_type": "markdown",
   "id": "3d4e89c6-0e9b-420d-97f7-ee1edc5e2e4f",
   "metadata": {},
   "source": [
    "### Feature Engineering"
   ]
  },
  {
   "cell_type": "markdown",
   "id": "22027ace-4453-4472-9504-79eff847fe2c",
   "metadata": {},
   "source": [
    "**`reservation_status_date` is datetime feature, we need to split into numeric features such as `year`, `month`, `day`, `weekday`, `is_weekend`**"
   ]
  },
  {
   "cell_type": "code",
   "execution_count": null,
   "id": "10279be0-7362-4d30-9d4a-b1f10da12371",
   "metadata": {},
   "outputs": [],
   "source": [
    "\"\"\"\n",
    "new_features\n",
    "------------\n",
    "reservation_status_year\n",
    "reservation_status_month\n",
    "reservation_status_day\n",
    "reservation_status_weekday\n",
    "reservation_status_is_weekend\n",
    "\"\"\""
   ]
  }
 ],
 "metadata": {
  "kernelspec": {
   "display_name": "Python 3 (ipykernel)",
   "language": "python",
   "name": "python3"
  },
  "language_info": {
   "codemirror_mode": {
    "name": "ipython",
    "version": 3
   },
   "file_extension": ".py",
   "mimetype": "text/x-python",
   "name": "python",
   "nbconvert_exporter": "python",
   "pygments_lexer": "ipython3",
   "version": "3.12.8"
  }
 },
 "nbformat": 4,
 "nbformat_minor": 5
}
